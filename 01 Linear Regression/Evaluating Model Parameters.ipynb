{
 "cells": [
  {
   "cell_type": "code",
   "execution_count": 2,
   "metadata": {},
   "outputs": [
    {
     "name": "stdout",
     "output_type": "stream",
     "text": [
      "Requirement already satisfied: numpy in c:\\users\\comp\\appdata\\local\\programs\\python\\python313\\lib\\site-packages (2.2.1)\n",
      "Requirement already satisfied: pandas in c:\\users\\comp\\appdata\\local\\programs\\python\\python313\\lib\\site-packages (2.2.3)\n",
      "Collecting scikit-learn\n",
      "  Downloading scikit_learn-1.6.1-cp313-cp313-win_amd64.whl.metadata (15 kB)\n",
      "Requirement already satisfied: matplotlib in c:\\users\\comp\\appdata\\local\\programs\\python\\python313\\lib\\site-packages (3.10.0)\n",
      "Requirement already satisfied: python-dateutil>=2.8.2 in c:\\users\\comp\\appdata\\roaming\\python\\python313\\site-packages (from pandas) (2.9.0.post0)\n",
      "Requirement already satisfied: pytz>=2020.1 in c:\\users\\comp\\appdata\\local\\programs\\python\\python313\\lib\\site-packages (from pandas) (2024.2)\n",
      "Requirement already satisfied: tzdata>=2022.7 in c:\\users\\comp\\appdata\\local\\programs\\python\\python313\\lib\\site-packages (from pandas) (2024.2)\n",
      "Collecting scipy>=1.6.0 (from scikit-learn)\n",
      "  Downloading scipy-1.15.2-cp313-cp313-win_amd64.whl.metadata (60 kB)\n",
      "Collecting joblib>=1.2.0 (from scikit-learn)\n",
      "  Using cached joblib-1.4.2-py3-none-any.whl.metadata (5.4 kB)\n",
      "Collecting threadpoolctl>=3.1.0 (from scikit-learn)\n",
      "  Downloading threadpoolctl-3.6.0-py3-none-any.whl.metadata (13 kB)\n",
      "Requirement already satisfied: contourpy>=1.0.1 in c:\\users\\comp\\appdata\\local\\programs\\python\\python313\\lib\\site-packages (from matplotlib) (1.3.1)\n",
      "Requirement already satisfied: cycler>=0.10 in c:\\users\\comp\\appdata\\local\\programs\\python\\python313\\lib\\site-packages (from matplotlib) (0.12.1)\n",
      "Requirement already satisfied: fonttools>=4.22.0 in c:\\users\\comp\\appdata\\local\\programs\\python\\python313\\lib\\site-packages (from matplotlib) (4.55.3)\n",
      "Requirement already satisfied: kiwisolver>=1.3.1 in c:\\users\\comp\\appdata\\local\\programs\\python\\python313\\lib\\site-packages (from matplotlib) (1.4.8)\n",
      "Requirement already satisfied: packaging>=20.0 in c:\\users\\comp\\appdata\\roaming\\python\\python313\\site-packages (from matplotlib) (24.2)\n",
      "Requirement already satisfied: pillow>=8 in c:\\users\\comp\\appdata\\local\\programs\\python\\python313\\lib\\site-packages (from matplotlib) (11.1.0)\n",
      "Requirement already satisfied: pyparsing>=2.3.1 in c:\\users\\comp\\appdata\\local\\programs\\python\\python313\\lib\\site-packages (from matplotlib) (3.2.1)\n",
      "Requirement already satisfied: six>=1.5 in c:\\users\\comp\\appdata\\roaming\\python\\python313\\site-packages (from python-dateutil>=2.8.2->pandas) (1.17.0)\n",
      "Downloading scikit_learn-1.6.1-cp313-cp313-win_amd64.whl (11.1 MB)\n",
      "   ---------------------------------------- 0.0/11.1 MB ? eta -:--:--\n",
      "   -------- ------------------------------- 2.4/11.1 MB 11.4 MB/s eta 0:00:01\n",
      "   ----------------- ---------------------- 4.7/11.1 MB 11.9 MB/s eta 0:00:01\n",
      "   -------------------------- ------------- 7.3/11.1 MB 11.9 MB/s eta 0:00:01\n",
      "   ----------------------------------- ---- 9.7/11.1 MB 11.9 MB/s eta 0:00:01\n",
      "   ---------------------------------------- 11.1/11.1 MB 10.9 MB/s eta 0:00:00\n",
      "Using cached joblib-1.4.2-py3-none-any.whl (301 kB)\n",
      "Downloading scipy-1.15.2-cp313-cp313-win_amd64.whl (41.0 MB)\n",
      "   ---------------------------------------- 0.0/41.0 MB ? eta -:--:--\n",
      "   -- ------------------------------------- 2.4/41.0 MB 11.8 MB/s eta 0:00:04\n",
      "   ---- ----------------------------------- 4.7/41.0 MB 11.9 MB/s eta 0:00:04\n",
      "   ------ --------------------------------- 7.1/41.0 MB 11.8 MB/s eta 0:00:03\n",
      "   --------- ------------------------------ 9.4/41.0 MB 11.6 MB/s eta 0:00:03\n",
      "   ---------- ----------------------------- 11.0/41.0 MB 10.9 MB/s eta 0:00:03\n",
      "   ------------- -------------------------- 13.4/41.0 MB 11.1 MB/s eta 0:00:03\n",
      "   --------------- ------------------------ 16.0/41.0 MB 11.2 MB/s eta 0:00:03\n",
      "   ------------------ --------------------- 18.6/41.0 MB 11.2 MB/s eta 0:00:02\n",
      "   -------------------- ------------------- 21.2/41.0 MB 11.3 MB/s eta 0:00:02\n",
      "   ----------------------- ---------------- 23.6/41.0 MB 11.4 MB/s eta 0:00:02\n",
      "   ------------------------- -------------- 26.2/41.0 MB 11.4 MB/s eta 0:00:02\n",
      "   --------------------------- ------------ 28.6/41.0 MB 11.5 MB/s eta 0:00:02\n",
      "   ------------------------------ --------- 30.9/41.0 MB 11.5 MB/s eta 0:00:01\n",
      "   -------------------------------- ------- 33.6/41.0 MB 11.5 MB/s eta 0:00:01\n",
      "   ----------------------------------- ---- 36.2/41.0 MB 11.5 MB/s eta 0:00:01\n",
      "   -------------------------------------- - 39.1/41.0 MB 11.5 MB/s eta 0:00:01\n",
      "   ---------------------------------------  40.9/41.0 MB 11.6 MB/s eta 0:00:01\n",
      "   ---------------------------------------  40.9/41.0 MB 11.6 MB/s eta 0:00:01\n",
      "   ---------------------------------------- 41.0/41.0 MB 10.5 MB/s eta 0:00:00\n",
      "Downloading threadpoolctl-3.6.0-py3-none-any.whl (18 kB)\n",
      "Installing collected packages: threadpoolctl, scipy, joblib, scikit-learn\n",
      "Successfully installed joblib-1.4.2 scikit-learn-1.6.1 scipy-1.15.2 threadpoolctl-3.6.0\n",
      "Note: you may need to restart the kernel to use updated packages.\n"
     ]
    },
    {
     "name": "stderr",
     "output_type": "stream",
     "text": [
      "\n",
      "[notice] A new release of pip is available: 24.2 -> 25.0.1\n",
      "[notice] To update, run: python.exe -m pip install --upgrade pip\n"
     ]
    }
   ],
   "source": [
    "# Evaluating Model Parameters\n",
    "%pip install numpy pandas scikit-learn matplotlib"
   ]
  },
  {
   "cell_type": "code",
   "execution_count": 3,
   "metadata": {},
   "outputs": [
    {
     "name": "stdout",
     "output_type": "stream",
     "text": [
      "Our starting point:\n",
      "   Size  Price\n",
      "0  1000    150\n",
      "1  1500    200\n",
      "2  2000    250\n",
      "3  2500    300\n"
     ]
    }
   ],
   "source": [
    "import numpy as np\n",
    "import pandas as pd\n",
    "import matplotlib.pyplot as plt\n",
    "from sklearn.linear_model import LinearRegression\n",
    "from sklearn.metrics import mean_squared_error\n",
    "\n",
    "# Here’s our data\n",
    "sizes = np.array([1000, 1500, 2000, 2500]).reshape(-1, 1)\n",
    "prices = np.array([150, 200, 250, 300])\n",
    "\n",
    "# Make it a neat table\n",
    "data = pd.DataFrame({'Size': sizes.flatten(), 'Price': prices})\n",
    "print(\"Our starting point:\")\n",
    "print(data)"
   ]
  },
  {
   "cell_type": "code",
   "execution_count": 4,
   "metadata": {},
   "outputs": [
    {
     "name": "stdout",
     "output_type": "stream",
     "text": [
      "Intercept: 50.00\n",
      "Slope: 0.100\n"
     ]
    }
   ],
   "source": [
    "# Create the model\n",
    "model = LinearRegression()\n",
    "\n",
    "# Fit it to our data\n",
    "model.fit(sizes, prices)\n",
    "\n",
    "# Pull out the intercept and slope\n",
    "intercept = model.intercept_\n",
    "slope = model.coef_[0]\n",
    "\n",
    "print(f\"Intercept: {intercept:.2f}\")\n",
    "print(f\"Slope: {slope:.3f}\")"
   ]
  },
  {
   "cell_type": "code",
   "execution_count": 5,
   "metadata": {},
   "outputs": [
    {
     "name": "stdout",
     "output_type": "stream",
     "text": [
      "\n",
      "How we did:\n",
      "   Size  Price  Predicted Price\n",
      "0  1000    150            150.0\n",
      "1  1500    200            200.0\n",
      "2  2000    250            250.0\n",
      "3  2500    300            300.0\n",
      "\n",
      "The differences:\n",
      "[ 0.00000000e+00 -2.84217094e-14  0.00000000e+00  0.00000000e+00]\n"
     ]
    }
   ],
   "source": [
    "# Make predictions\n",
    "predicted_prices = model.predict(sizes)\n",
    "\n",
    "# Add them to our table\n",
    "data['Predicted Price'] = predicted_prices\n",
    "print(\"\\nHow we did:\")\n",
    "print(data)\n",
    "\n",
    "# See the misses\n",
    "residuals = prices - predicted_prices\n",
    "print(\"\\nThe differences:\")\n",
    "print(residuals)"
   ]
  },
  {
   "cell_type": "code",
   "execution_count": 6,
   "metadata": {},
   "outputs": [
    {
     "name": "stdout",
     "output_type": "stream",
     "text": [
      "R-squared: 1.00\n",
      "Mean Squared Error: 0.00\n",
      "Root Mean Squared Error: 0.00\n"
     ]
    }
   ],
   "source": [
    "# How much of the pattern we caught\n",
    "r_squared = model.score(sizes, prices)\n",
    "\n",
    "# How big our mistakes are\n",
    "mse = mean_squared_error(prices, predicted_prices)\n",
    "rmse = np.sqrt(mse)\n",
    "\n",
    "print(f\"R-squared: {r_squared:.2f}\")\n",
    "print(f\"Mean Squared Error: {mse:.2f}\")\n",
    "print(f\"Root Mean Squared Error: {rmse:.2f}\")"
   ]
  },
  {
   "cell_type": "code",
   "execution_count": 7,
   "metadata": {},
   "outputs": [
    {
     "data": {
      "image/png": "[encoded data removed]",
      "text/plain": [
       "<Figure size 640x480 with 1 Axes>"
      ]
     },
     "metadata": {},
     "output_type": "display_data"
    }
   ],
   "source": [
    "# Plot the real points\n",
    "plt.scatter(sizes, prices, color='blue', label='Real Prices')\n",
    "\n",
    "# Draw our line\n",
    "plt.plot(sizes, predicted_prices, color='red', label='Our Guess')\n",
    "\n",
    "# Make it pretty\n",
    "plt.xlabel('Size (sq ft)')\n",
    "plt.ylabel('Price ($1000s)')\n",
    "plt.title('Size vs Price: Our Linear Regression')\n",
    "plt.legend()\n",
    "plt.show()"
   ]
  }
 ],
 "metadata": {
  "kernelspec": {
   "display_name": "Python 3",
   "language": "python",
   "name": "python3"
  },
  "language_info": {
   "codemirror_mode": {
    "name": "ipython",
    "version": 3
   },
   "file_extension": ".py",
   "mimetype": "text/x-python",
   "name": "python",
   "nbconvert_exporter": "python",
   "pygments_lexer": "ipython3",
   "version": "3.13.0"
  }
 },
 "nbformat": 4,
 "nbformat_minor": 2
}
